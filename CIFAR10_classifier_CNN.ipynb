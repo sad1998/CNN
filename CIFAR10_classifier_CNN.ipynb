{
 "cells": [
  {
   "cell_type": "markdown",
   "metadata": {},
   "source": [
    "# IMAGE RECOGNITION ON THE CIFAR-10 DATASET USING CNN\n",
    "\n",
    "The 10 different classes represent:\n",
    "    * airplanes \n",
    "    * cars \n",
    "    * birds \n",
    "    * cats \n",
    "    * deer \n",
    "    * dogs \n",
    "    * frogs \n",
    "    * horses \n",
    "    * ships \n",
    "    * trucks \n",
    "    \n",
    "There are 6,000 images of each class."
   ]
  },
  {
   "cell_type": "code",
   "execution_count": 1,
   "metadata": {},
   "outputs": [],
   "source": [
    "#Importing necessary libraries\n",
    "\n",
    "import tensorflow\n",
    "import matplotlib.pyplot as plt\n",
    "%matplotlib inline"
   ]
  },
  {
   "cell_type": "code",
   "execution_count": 2,
   "metadata": {},
   "outputs": [],
   "source": [
    "from tensorflow.keras.datasets import cifar10"
   ]
  },
  {
   "cell_type": "code",
   "execution_count": 3,
   "metadata": {},
   "outputs": [],
   "source": [
    "# Loading the dataset and splitting it into train and test sets\n",
    "\n",
    "(X_train,y_train) , (X_test,y_test) = cifar10.load_data()"
   ]
  },
  {
   "cell_type": "code",
   "execution_count": 4,
   "metadata": {},
   "outputs": [
    {
     "data": {
      "text/plain": [
       "(50000, 32, 32, 3)"
      ]
     },
     "execution_count": 4,
     "metadata": {},
     "output_type": "execute_result"
    }
   ],
   "source": [
    "X_train.shape"
   ]
  },
  {
   "cell_type": "code",
   "execution_count": 5,
   "metadata": {},
   "outputs": [
    {
     "data": {
      "text/plain": [
       "<matplotlib.image.AxesImage at 0x1db411b4548>"
      ]
     },
     "execution_count": 5,
     "metadata": {},
     "output_type": "execute_result"
    },
    {
     "data": {
      "image/png": "[encoded data removed]",
      "text/plain": [
       "<Figure size 432x288 with 1 Axes>"
      ]
     },
     "metadata": {
      "needs_background": "light"
     },
     "output_type": "display_data"
    }
   ],
   "source": [
    "plt.imshow(X_train[0])"
   ]
  },
  {
   "cell_type": "code",
   "execution_count": 6,
   "metadata": {},
   "outputs": [
    {
     "data": {
      "text/plain": [
       "<matplotlib.image.AxesImage at 0x1db4223ddc8>"
      ]
     },
     "execution_count": 6,
     "metadata": {},
     "output_type": "execute_result"
    },
    {
     "data": {
      "image/png": "[encoded data removed]",
      "text/plain": [
       "<Figure size 432x288 with 1 Axes>"
      ]
     },
     "metadata": {
      "needs_background": "light"
     },
     "output_type": "display_data"
    }
   ],
   "source": [
    "plt.imshow(X_test[0])"
   ]
  },
  {
   "cell_type": "code",
   "execution_count": 7,
   "metadata": {},
   "outputs": [],
   "source": [
    "# Scaling the data to values between 0 and 1\n",
    "\n",
    "X_train = X_train/255\n",
    "X_test = X_test/255"
   ]
  },
  {
   "cell_type": "code",
   "execution_count": 8,
   "metadata": {},
   "outputs": [
    {
     "data": {
      "text/plain": [
       "(1.0, 0.0)"
      ]
     },
     "execution_count": 8,
     "metadata": {},
     "output_type": "execute_result"
    }
   ],
   "source": [
    "X_train.max() , X_train.min()"
   ]
  },
  {
   "cell_type": "code",
   "execution_count": 9,
   "metadata": {},
   "outputs": [
    {
     "data": {
      "text/plain": [
       "(1.0, 0.0)"
      ]
     },
     "execution_count": 9,
     "metadata": {},
     "output_type": "execute_result"
    }
   ],
   "source": [
    "X_test.max(), X_test.min()"
   ]
  },
  {
   "cell_type": "code",
   "execution_count": 10,
   "metadata": {},
   "outputs": [],
   "source": [
    "# ONE HOT ENCODING THE LABEL\n",
    "\n",
    "from tensorflow.keras.utils import to_categorical"
   ]
  },
  {
   "cell_type": "code",
   "execution_count": 11,
   "metadata": {},
   "outputs": [],
   "source": [
    "y_train_categorical = to_categorical(y_train,10)\n",
    "\n",
    "y_test_categorical = to_categorical(y_test , 10)"
   ]
  },
  {
   "cell_type": "code",
   "execution_count": 12,
   "metadata": {},
   "outputs": [
    {
     "data": {
      "text/plain": [
       "array([[0., 0., 0., ..., 0., 0., 0.],\n",
       "       [0., 0., 0., ..., 0., 0., 1.],\n",
       "       [0., 0., 0., ..., 0., 0., 1.],\n",
       "       ...,\n",
       "       [0., 0., 0., ..., 0., 0., 1.],\n",
       "       [0., 1., 0., ..., 0., 0., 0.],\n",
       "       [0., 1., 0., ..., 0., 0., 0.]], dtype=float32)"
      ]
     },
     "execution_count": 12,
     "metadata": {},
     "output_type": "execute_result"
    }
   ],
   "source": [
    "y_train_categorical"
   ]
  },
  {
   "cell_type": "code",
   "execution_count": 13,
   "metadata": {},
   "outputs": [
    {
     "data": {
      "text/plain": [
       "array([[0., 0., 0., ..., 0., 0., 0.],\n",
       "       [0., 0., 0., ..., 0., 1., 0.],\n",
       "       [0., 0., 0., ..., 0., 1., 0.],\n",
       "       ...,\n",
       "       [0., 0., 0., ..., 0., 0., 0.],\n",
       "       [0., 1., 0., ..., 0., 0., 0.],\n",
       "       [0., 0., 0., ..., 1., 0., 0.]], dtype=float32)"
      ]
     },
     "execution_count": 13,
     "metadata": {},
     "output_type": "execute_result"
    }
   ],
   "source": [
    "y_test_categorical"
   ]
  },
  {
   "cell_type": "code",
   "execution_count": 14,
   "metadata": {},
   "outputs": [],
   "source": [
    "# IMPORTING LIBRARIES TO IMPLEMENT THE CONVOLUTIONAL NEURAL NETWORK\n",
    "'\n",
    "from tensorflow.keras.models import Sequential\n",
    "from tensorflow.keras.layers import Dense,Conv2D,MaxPool2D,Flatten"
   ]
  },
  {
   "cell_type": "code",
   "execution_count": 15,
   "metadata": {},
   "outputs": [],
   "source": [
    "classifier = Sequential()"
   ]
  },
  {
   "cell_type": "code",
   "execution_count": 16,
   "metadata": {},
   "outputs": [],
   "source": [
    "classifier.add(Conv2D(filters = 32, kernel_size = (4,4), input_shape = (32,32,3), activation = 'relu'))\n",
    "classifier.add(Conv2D(filters = 64, kernel_size = (4,4), input_shape = (32,32,3), activation = 'relu'))\n",
    "\n",
    "classifier.add(MaxPool2D(pool_size = (2,2)))\n",
    "\n",
    "classifier.add(Flatten())\n",
    "\n",
    "classifier.add(Dense(units = 256, activation = 'relu'))\n",
    "\n",
    "classifier.add(Dense(units = 10, activation = 'softmax'))\n",
    "\n",
    "classifier.compile(loss = 'categorical_crossentropy', optimizer= 'rmsprop', metrics=['accuracy'])"
   ]
  },
  {
   "cell_type": "code",
   "execution_count": 17,
   "metadata": {},
   "outputs": [
    {
     "name": "stdout",
     "output_type": "stream",
     "text": [
      "Train on 50000 samples\n",
      "Epoch 1/20\n",
      "50000/50000 [==============================] - 130s 3ms/sample - loss: 1.4295 - accuracy: 0.4950\n",
      "Epoch 2/20\n",
      "50000/50000 [==============================] - 127s 3ms/sample - loss: 0.9867 - accuracy: 0.6576 - loss: 0.9866 - accuracy: 0.65\n",
      "Epoch 3/20\n",
      "50000/50000 [==============================] - 127s 3ms/sample - loss: 0.7615 - accuracy: 0.7363\n",
      "Epoch 4/20\n",
      "50000/50000 [==============================] - 127s 3ms/sample - loss: 0.5698 - accuracy: 0.8054\n",
      "Epoch 5/20\n",
      "50000/50000 [==============================] - 116s 2ms/sample - loss: 0.4012 - accuracy: 0.8638\n",
      "Epoch 6/20\n",
      "50000/50000 [==============================] - 109s 2ms/sample - loss: 0.2650 - accuracy: 0.9123\n",
      "Epoch 7/20\n",
      "50000/50000 [==============================] - 128s 3ms/sample - loss: 0.1778 - accuracy: 0.9402\n",
      "Epoch 8/20\n",
      "50000/50000 [==============================] - 128s 3ms/sample - loss: 0.1211 - accuracy: 0.9601\n",
      "Epoch 9/20\n",
      "50000/50000 [==============================] - 127s 3ms/sample - loss: 0.0968 - accuracy: 0.9685\n",
      "Epoch 10/20\n",
      "50000/50000 [==============================] - 122s 2ms/sample - loss: 0.0788 - accuracy: 0.9746\n",
      "Epoch 11/20\n",
      "50000/50000 [==============================] - 107s 2ms/sample - loss: 0.0718 - accuracy: 0.9772\n",
      "Epoch 12/20\n",
      "50000/50000 [==============================] - 105s 2ms/sample - loss: 0.0716 - accuracy: 0.9783\n",
      "Epoch 13/20\n",
      "50000/50000 [==============================] - 106s 2ms/sample - loss: 0.0687 - accuracy: 0.9796\n",
      "Epoch 14/20\n",
      "50000/50000 [==============================] - 105s 2ms/sample - loss: 0.0609 - accuracy: 0.9817\n",
      "Epoch 15/20\n",
      "50000/50000 [==============================] - 105s 2ms/sample - loss: 0.0625 - accuracy: 0.9816\n",
      "Epoch 16/20\n",
      "50000/50000 [==============================] - 105s 2ms/sample - loss: 0.0670 - accuracy: 0.9812\n",
      "Epoch 17/20\n",
      "50000/50000 [==============================] - 104s 2ms/sample - loss: 0.0639 - accuracy: 0.9827\n",
      "Epoch 18/20\n",
      "50000/50000 [==============================] - 104s 2ms/sample - loss: 0.0605 - accuracy: 0.9837\n",
      "Epoch 19/20\n",
      "50000/50000 [==============================] - 104s 2ms/sample - loss: 0.0613 - accuracy: 0.9839\n",
      "Epoch 20/20\n",
      "50000/50000 [==============================] - 105s 2ms/sample - loss: 0.0588 - accuracy: 0.9843\n"
     ]
    },
    {
     "data": {
      "text/plain": [
       "<tensorflow.python.keras.callbacks.History at 0x1db345d3348>"
      ]
     },
     "execution_count": 17,
     "metadata": {},
     "output_type": "execute_result"
    }
   ],
   "source": [
    "# FITTING THE DATA\n",
    "\n",
    "classifier.fit(X_train, y_train_categorical, epochs = 20, batch_size = 64, verbose = 1)"
   ]
  },
  {
   "cell_type": "code",
   "execution_count": 18,
   "metadata": {},
   "outputs": [
    {
     "data": {
      "text/plain": [
       "['loss', 'accuracy']"
      ]
     },
     "execution_count": 18,
     "metadata": {},
     "output_type": "execute_result"
    }
   ],
   "source": [
    "classifier.metrics_names"
   ]
  },
  {
   "cell_type": "code",
   "execution_count": 19,
   "metadata": {},
   "outputs": [
    {
     "name": "stdout",
     "output_type": "stream",
     "text": [
      "10000/10000 [==============================] - 4s 405us/sample - loss: 4.5788 - accuracy: 0.6865\n"
     ]
    },
    {
     "data": {
      "text/plain": [
       "[4.578770325088501, 0.6865]"
      ]
     },
     "execution_count": 19,
     "metadata": {},
     "output_type": "execute_result"
    }
   ],
   "source": [
    "# EVALUATING THE DATA\n",
    "\n",
    "classifier.evaluate(X_test, y_test_categorical)"
   ]
  },
  {
   "cell_type": "code",
   "execution_count": 20,
   "metadata": {},
   "outputs": [],
   "source": [
    "# PREDICTING ON THE TEST DATASET\n",
    "\n",
    "from sklearn.metrics import classification_report\n",
    "\n",
    "predictions = classifier.predict_classes(X_test)"
   ]
  },
  {
   "cell_type": "code",
   "execution_count": 21,
   "metadata": {},
   "outputs": [
    {
     "name": "stdout",
     "output_type": "stream",
     "text": [
      "              precision    recall  f1-score   support\n",
      "\n",
      "           0       0.67      0.77      0.72      1000\n",
      "           1       0.82      0.79      0.81      1000\n",
      "           2       0.54      0.64      0.59      1000\n",
      "           3       0.53      0.45      0.49      1000\n",
      "           4       0.59      0.68      0.63      1000\n",
      "           5       0.63      0.53      0.57      1000\n",
      "           6       0.79      0.72      0.75      1000\n",
      "           7       0.68      0.79      0.73      1000\n",
      "           8       0.86      0.76      0.81      1000\n",
      "           9       0.81      0.73      0.77      1000\n",
      "\n",
      "    accuracy                           0.69     10000\n",
      "   macro avg       0.69      0.69      0.69     10000\n",
      "weighted avg       0.69      0.69      0.69     10000\n",
      "\n"
     ]
    }
   ],
   "source": [
    "print(classification_report(y_test , predictions))"
   ]
  },
  {
   "cell_type": "markdown",
   "metadata": {},
   "source": [
    "###### THE MODEL HAS AN ACCURACY OF 69% . THE LOW ACCURACY IS DUE TO LESS NUMBER OF EPOCHS."
   ]
  },
  {
   "cell_type": "markdown",
   "metadata": {},
   "source": [
    "# THE END"
   ]
  }
 ],
 "metadata": {
  "kernelspec": {
   "display_name": "Python 3",
   "language": "python",
   "name": "python3"
  },
  "language_info": {
   "codemirror_mode": {
    "name": "ipython",
    "version": 3
   },
   "file_extension": ".py",
   "mimetype": "text/x-python",
   "name": "python",
   "nbconvert_exporter": "python",
   "pygments_lexer": "ipython3",
   "version": "3.7.7"
  }
 },
 "nbformat": 4,
 "nbformat_minor": 4
}
